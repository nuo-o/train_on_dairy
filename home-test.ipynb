{
 "cells": [
  {
   "cell_type": "code",
   "execution_count": 2,
   "metadata": {},
   "outputs": [],
   "source": [
    "import os, sys, ujson, json\n",
    "module_path = os.path.abspath(os.path.join('..'))\n",
    "if module_path not in sys.path:\n",
    "    sys.path.append(module_path)\n",
    "from Feature.common import *"
   ]
  },
  {
   "cell_type": "code",
   "execution_count": 15,
   "metadata": {},
   "outputs": [
    {
     "name": "stdout",
     "output_type": "stream",
     "text": [
      "number of active records: 13935\n"
     ]
    }
   ],
   "source": [
    "# features:\n",
    "features = defaultdict(list)\n",
    "\n",
    "user_feature_names = [\n",
    "    'app_version',\n",
    "    'nl_topic256',\n",
    "    'nl_topic64',\n",
    "    'news_device_id',\n",
    "    'os',\n",
    "    'phone_model',\n",
    "    'screen_height',\n",
    "]\n",
    "\n",
    "news_feature_names = [\n",
    "    'content_length',\n",
    "    'country',\n",
    "    'domain_category_level',\n",
    "    'dup_flag',\n",
    "    'enter_timestamp',\n",
    "    'exp_scores',\n",
    "    'evergreen_confidence',\n",
    "    'first_occurrence_timestamp',\n",
    "    'hub_timestamp',\n",
    "    'index_type',\n",
    "    'language',\n",
    "    'last_timestamp',\n",
    "    'topic256',\n",
    "    'topic64',\n",
    "    'ttl',\n",
    "    'negative_feedback_keyword',\n",
    "    'news_publish_time_diff_hour_desc', # available feature?\n",
    "    'no_of_videos',\n",
    "    'no_of_pictures',\n",
    "    'partner',\n",
    "    'pictures',\n",
    "    'push_ctr',\n",
    "    'quality',\n",
    "    'recall_score',\n",
    "    'response_timestamp',\n",
    "    'sex'\n",
    "]\n",
    "\n",
    "# filter only active user data\n",
    "\n",
    "active_records = []\n",
    "\n",
    "with open(\"data.csv\") as f:\n",
    "    for user_data in f.readlines():\n",
    "        jason_data = \" \".join(user_data.split()[3:])\n",
    "        nested_dict = ujson.loads(jason_data)\n",
    "        news_profile = nested_dict['news_profile']\n",
    "        # user_profile = jason_data['user_profile']\n",
    "\n",
    "        for news_id in news_profile.keys():\n",
    "            label = news_profile[news_id]['label']\n",
    "\n",
    "            if label:\n",
    "                active_records.append(nested_dict)\n",
    "                break\n",
    "\n",
    "print(\"number of active records: {}\".format(len(active_records)))"
   ]
  },
  {
   "cell_type": "code",
   "execution_count": 16,
   "metadata": {},
   "outputs": [
    {
     "data": {
      "text/plain": [
       "[u'news_profile', u'user_profile']"
      ]
     },
     "execution_count": 16,
     "metadata": {},
     "output_type": "execute_result"
    }
   ],
   "source": [
    "active_records[0].keys()"
   ]
  },
  {
   "cell_type": "code",
   "execution_count": 19,
   "metadata": {},
   "outputs": [
    {
     "ename": "AttributeError",
     "evalue": "'list' object has no attribute 'items'",
     "output_type": "error",
     "traceback": [
      "\u001b[0;31m---------------------------------------------------------------------------\u001b[0m",
      "\u001b[0;31mAttributeError\u001b[0m                            Traceback (most recent call last)",
      "\u001b[0;32m<ipython-input-19-2aa319fdee2c>\u001b[0m in \u001b[0;36m<module>\u001b[0;34m()\u001b[0m\n\u001b[1;32m      7\u001b[0m     \u001b[0;31m# get news_features\u001b[0m\u001b[0;34m\u001b[0m\u001b[0;34m\u001b[0m\u001b[0m\n\u001b[1;32m      8\u001b[0m     \u001b[0;32mfor\u001b[0m \u001b[0mnews_id\u001b[0m \u001b[0;32min\u001b[0m \u001b[0mnews_profile\u001b[0m\u001b[0;34m.\u001b[0m\u001b[0mkeys\u001b[0m\u001b[0;34m(\u001b[0m\u001b[0;34m)\u001b[0m\u001b[0;34m:\u001b[0m\u001b[0;34m\u001b[0m\u001b[0m\n\u001b[0;32m----> 9\u001b[0;31m         \u001b[0msearch_nested_dict_bfs\u001b[0m\u001b[0;34m(\u001b[0m \u001b[0mnews_profile\u001b[0m\u001b[0;34m[\u001b[0m\u001b[0mnews_id\u001b[0m\u001b[0;34m]\u001b[0m\u001b[0;34m,\u001b[0m \u001b[0mnews_feature_names\u001b[0m\u001b[0;34m,\u001b[0m \u001b[0mfeatures\u001b[0m\u001b[0;34m)\u001b[0m\u001b[0;34m\u001b[0m\u001b[0m\n\u001b[0m",
      "\u001b[0;32m/Users/NUO/Desktop/Feature/common.py\u001b[0m in \u001b[0;36msearch_nested_dict_bfs\u001b[0;34m(root, item2search, saved_dict)\u001b[0m\n\u001b[1;32m     95\u001b[0m         \u001b[0mnode\u001b[0m \u001b[0;34m=\u001b[0m \u001b[0mqueue\u001b[0m\u001b[0;34m.\u001b[0m\u001b[0mpop\u001b[0m\u001b[0;34m(\u001b[0m\u001b[0;34m)\u001b[0m\u001b[0;34m\u001b[0m\u001b[0m\n\u001b[1;32m     96\u001b[0m \u001b[0;34m\u001b[0m\u001b[0m\n\u001b[0;32m---> 97\u001b[0;31m         \u001b[0;32mfor\u001b[0m \u001b[0mk\u001b[0m\u001b[0;34m,\u001b[0m \u001b[0mv\u001b[0m \u001b[0;32min\u001b[0m \u001b[0mnode\u001b[0m\u001b[0;34m.\u001b[0m\u001b[0mitems\u001b[0m\u001b[0;34m(\u001b[0m\u001b[0;34m)\u001b[0m\u001b[0;34m:\u001b[0m\u001b[0;34m\u001b[0m\u001b[0m\n\u001b[0m\u001b[1;32m     98\u001b[0m             \u001b[0;32mif\u001b[0m \u001b[0mk\u001b[0m \u001b[0;32min\u001b[0m \u001b[0mitem2search\u001b[0m\u001b[0;34m:\u001b[0m\u001b[0;34m\u001b[0m\u001b[0m\n\u001b[1;32m     99\u001b[0m                 \u001b[0msaved_dict\u001b[0m\u001b[0;34m[\u001b[0m\u001b[0mk\u001b[0m\u001b[0;34m]\u001b[0m\u001b[0;34m.\u001b[0m\u001b[0mappend\u001b[0m\u001b[0;34m(\u001b[0m\u001b[0mv\u001b[0m\u001b[0;34m)\u001b[0m\u001b[0;34m\u001b[0m\u001b[0m\n",
      "\u001b[0;31mAttributeError\u001b[0m: 'list' object has no attribute 'items'"
     ]
    }
   ],
   "source": [
    "# split into instances and extract features\n",
    "features = defaultdict(list)\n",
    "for user_data in active_records:\n",
    "    news_profile = user_data['news_profile']\n",
    "    user_profile = user_data['user_profile']\n",
    "\n",
    "    # get news_features\n",
    "    for news_id in news_profile.keys():\n",
    "        search_nested_dict_bfs( news_profile[news_id], news_feature_names, features)"
   ]
  },
  {
   "cell_type": "code",
   "execution_count": null,
   "metadata": {},
   "outputs": [],
   "source": []
  }
 ],
 "metadata": {
  "kernelspec": {
   "display_name": "Python 2",
   "language": "python",
   "name": "python2"
  },
  "language_info": {
   "codemirror_mode": {
    "name": "ipython",
    "version": 2
   },
   "file_extension": ".py",
   "mimetype": "text/x-python",
   "name": "python",
   "nbconvert_exporter": "python",
   "pygments_lexer": "ipython2",
   "version": "2.7.13"
  },
  "toc": {
   "base_numbering": 1,
   "nav_menu": {},
   "number_sections": true,
   "sideBar": true,
   "skip_h1_title": false,
   "title_cell": "Table of Contents",
   "title_sidebar": "Contents",
   "toc_cell": false,
   "toc_position": {},
   "toc_section_display": true,
   "toc_window_display": false
  }
 },
 "nbformat": 4,
 "nbformat_minor": 2
}
