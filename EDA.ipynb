{
 "cells": [
  {
   "cell_type": "markdown",
   "metadata": {},
   "source": [
    ">结论(只看了一个.csv 文件)：\n",
    "\n",
    ">1：active user 约为 43%～45%\n",
    "\n",
    ">2: 大多数人(96%)，每天收到 1～8 条 pushed messages。最多的收到过14条。可能是之前没有网，突然累计推送的。\n",
    "\n",
    ">3: 一条新闻会推给很多人，最多的几乎全网推送，4000次。\n",
    "\n",
    ">4: 绝大多数人(90%)，每天只会 click <=2 次，95% click <=3次。所以feature: 上次click 距现在多久，当天已经点击过多少次了。这是今天推的第几条。"
   ]
  },
  {
   "cell_type": "code",
   "execution_count": 1,
   "metadata": {},
   "outputs": [],
   "source": [
    "import argparse\n",
    "import logging, yaml,pandas as pd\n",
    "import ujson, random, pickle\n",
    "from pandas.io.json import json_normalize\n",
    "import matplotlib.pyplot as plt\n",
    "from collections import defaultdict"
   ]
  },
  {
   "cell_type": "markdown",
   "metadata": {},
   "source": [
    "# split into train and test"
   ]
  },
  {
   "cell_type": "code",
   "execution_count": 2,
   "metadata": {},
   "outputs": [
    {
     "name": "stdout",
     "output_type": "stream",
     "text": [
      "(14671, 6289)\n",
      "done\n",
      "CPU times: user 11.9 s, sys: 2.36 s, total: 14.3 s\n",
      "Wall time: 14.5 s\n"
     ]
    }
   ],
   "source": [
    "SEED = 448\n",
    "random.seed(SEED)\n",
    "\n",
    "def parse_arguments():\n",
    "    parser = argparse.ArgumentParser(description='Recommendation Algo Experiments')\n",
    "    parser.add_argument(\"-c\", \"--config\", type=argparse.FileType(mode='r'), help=\"Config file\")\n",
    "    return parser.parse_args()\n",
    "\n",
    "def get_news_profile_from_dairy(path):\n",
    "    record = []\n",
    "    with open(path, 'r') as f:\n",
    "        for line in f.readlines():\n",
    "            # 'news_profiles' starts at index 3\n",
    "            news_profiles = \" \".join(line.split()[3:])\n",
    "            news_profiles = ujson.loads(news_profiles)\n",
    "            record.append(news_profiles)\n",
    "    return record\n",
    "\n",
    "def train_test_split(dairy_list, ratio):\n",
    "    random.shuffle(dairy_list)\n",
    "    split_index = int(len(dairy_list)*ratio)\n",
    "    train_dairy = dairy_list[:split_index] \n",
    "    test_dairy = dairy_list[split_index: ]\n",
    "    print(len(train_dairy), len(test_dairy))\n",
    "    \n",
    "    return train_dairy, test_dairy\n",
    "\n",
    "def main():\n",
    "    dairy_records = get_news_profile_from_dairy(\"../Data/dairy_data/20181024/part-00090-8548596d-15ca-4d7e-9019-14354b9db90f.csv\")\n",
    "    train,test = train_test_split( dairy_records, 0.7 )\n",
    "    # dump train, test\n",
    "#     with open('../Data/train_dairy.txt', 'wb') as f:\n",
    "#         pickle.dump(train, f)\n",
    "    \n",
    "#     with open('../Data/test_dairy.txt', 'wb') as f:\n",
    "#         pickle.dump(test, f)\n",
    "    \n",
    "    print('done')\n",
    "    return train, test\n",
    "\n",
    "%time train_dairy, test_dairy = main()"
   ]
  },
  {
   "cell_type": "markdown",
   "metadata": {},
   "source": [
    "## check if train and test have similar feature/label distribution"
   ]
  },
  {
   "cell_type": "code",
   "execution_count": 3,
   "metadata": {
    "scrolled": true
   },
   "outputs": [
    {
     "data": {
      "text/plain": [
       "[u'61dd67ba_ci', u'9c46ceb5_ci']"
      ]
     },
     "execution_count": 3,
     "metadata": {},
     "output_type": "execute_result"
    }
   ],
   "source": [
    "train_dairy[0]['news_profile'].keys()"
   ]
  },
  {
   "cell_type": "code",
   "execution_count": 4,
   "metadata": {},
   "outputs": [
    {
     "data": {
      "text/plain": [
       "[u'61dd67ba_ci', u'9c46ceb5_ci']"
      ]
     },
     "execution_count": 4,
     "metadata": {},
     "output_type": "execute_result"
    }
   ],
   "source": [
    "type(train_dairy)\n",
    "type(train_dairy[0])\n",
    "train_dairy[0].keys()\n",
    "type(train_dairy[0]['news_profile'])\n",
    "train_dairy[0]['news_profile'].keys()"
   ]
  },
  {
   "cell_type": "code",
   "execution_count": 5,
   "metadata": {},
   "outputs": [
    {
     "name": "stdout",
     "output_type": "stream",
     "text": [
      "train:\n",
      "active user: 12053 / 26724, proportion = 45.0%\n",
      "test:\n",
      "active user: 5146 / 11435, proportion = 45.0%\n"
     ]
    }
   ],
   "source": [
    "def count_active_user(dairy, printInfo):\n",
    "    active_count = 0\n",
    "    inactive_count = 0\n",
    "    for user in dairy:\n",
    "        active_flag = False\n",
    "        for pushed_news in user['news_profile'].keys():\n",
    "            if user['news_profile'][pushed_news]['label'] == 1:\n",
    "                active_count += 1\n",
    "                active_flag = False\n",
    "                break\n",
    "        if not active_flag:\n",
    "                inactive_count +=1\n",
    "            \n",
    "    if printInfo:\n",
    "        print('active user: {} / {}, proportion = {}%'.format(active_count, active_count+inactive_count, round(active_count*100/(active_count+inactive_count), 2)))\n",
    "    return active_count, inactive_count\n",
    "\n",
    "print('train:')\n",
    "train_act, train_inact = count_active_user(train_dairy, True)\n",
    "print('test:')\n",
    "test_act, test_inact = count_active_user(test_dairy, True)"
   ]
  },
  {
   "cell_type": "markdown",
   "metadata": {},
   "source": [
    ">The train and test set has the same proportion of active users(clicked at least one pushed news).\n",
    "\n",
    ">The below mainly analyze data distribution on the train set."
   ]
  },
  {
   "cell_type": "markdown",
   "metadata": {},
   "source": [
    "## check the number of clicks in active users"
   ]
  },
  {
   "cell_type": "code",
   "execution_count": 6,
   "metadata": {},
   "outputs": [],
   "source": [
    "def count_num_pushed_news_pp(dairy, printInfo):\n",
    "    \"\"\"count number of pushed news per person\"\"\"\n",
    "    pushed_counts = []\n",
    "    for user in dairy:\n",
    "        active_flag = False\n",
    "        num = len( user['news_profile'].keys())\n",
    "        pushed_counts.append(num)\n",
    "    return pushed_counts\n",
    "\n",
    "def count_num_pushed_news_pn(dairy, printInfo):\n",
    "    \"\"\"count number of times pushed per news\"\"\"\n",
    "    pushed_news_counts = defaultdict(int)\n",
    "    for user in dairy:\n",
    "        active_flag = False\n",
    "        for news_id in user['news_profile'].keys():\n",
    "            pushed_news_counts[news_id] += 1\n",
    "    \n",
    "    pushed_times = [ times for news_id, times in pushed_news_counts.items() ]\n",
    "        \n",
    "    return pushed_times\n",
    "\n",
    "count_pp = count_num_pushed_news_pp(train_dairy, True)\n",
    "count_pn = count_num_pushed_news_pn(train_dairy, True)"
   ]
  },
  {
   "cell_type": "code",
   "execution_count": 7,
   "metadata": {},
   "outputs": [
    {
     "data": {
      "text/plain": [
       "14671"
      ]
     },
     "execution_count": 7,
     "metadata": {},
     "output_type": "execute_result"
    }
   ],
   "source": [
    "len(count_pp)"
   ]
  },
  {
   "cell_type": "code",
   "execution_count": 8,
   "metadata": {},
   "outputs": [
    {
     "data": {
      "image/png": "[encoded data removed]",
      "text/plain": [
       "<Figure size 864x432 with 1 Axes>"
      ]
     },
     "metadata": {
      "needs_background": "light"
     },
     "output_type": "display_data"
    }
   ],
   "source": [
    "plt.figure(figsize = (12, 6))\n",
    "plt.hist(count_pp, bins = 50, log = True)\n",
    "plt.xlabel('Number of pushed news a man received', fontsize = 12)\n",
    "plt.ylabel('log(Count of people)', fontsize = 12)\n",
    "plt.title('The distribution of number of push news received ')\n",
    "plt.show()"
   ]
  },
  {
   "cell_type": "code",
   "execution_count": 9,
   "metadata": {},
   "outputs": [
    {
     "name": "stdout",
     "output_type": "stream",
     "text": [
      "People that receives push news < 1: 0.07 %\n",
      "People that receives push news < 2: 23.9 %\n",
      "People that receives push news < 3: 39.27 %\n",
      "People that receives push news < 4: 48.52 %\n",
      "People that receives push news < 5: 57.21 %\n",
      "People that receives push news < 6: 67.28 %\n",
      "People that receives push news < 7: 79.7 %\n",
      "People that receives push news < 8: 89.69 %\n",
      "People that receives push news < 9: 96.63 %\n",
      "People that receives push news < 10: 99.11 %\n",
      "People that receives push news < 11: 99.93 %\n",
      "People that receives push news < 12: 99.99 %\n"
     ]
    }
   ],
   "source": [
    "for i in range(1, 13):\n",
    "    counts = [1 for p in count_pp if p < i]\n",
    "    counts = round( 100.0* sum(counts)/len(count_pp),2 )\n",
    "    print('People that receives push news < {}: {} %'.format(i, counts))"
   ]
  },
  {
   "cell_type": "markdown",
   "metadata": {},
   "source": [
    "> 6 条以上 可能是因为server延时上报。"
   ]
  },
  {
   "cell_type": "code",
   "execution_count": 10,
   "metadata": {},
   "outputs": [],
   "source": [
    "def collect_outliers(dairy, printInfo, cutoff):\n",
    "    \"\"\"collect users that receives too much pushed news a day\"\"\"\n",
    "    outliers = []\n",
    "    for user in dairy:\n",
    "        active_flag = False\n",
    "        num = len( user['news_profile'].keys())\n",
    "        if num >= cutoff:\n",
    "            outliers.append(user)\n",
    "    return outliers\n",
    "\n",
    "outliers = collect_outliers(train_dairy, True,  12)"
   ]
  },
  {
   "cell_type": "code",
   "execution_count": 11,
   "metadata": {},
   "outputs": [
    {
     "data": {
      "text/plain": [
       "1"
      ]
     },
     "execution_count": 11,
     "metadata": {},
     "output_type": "execute_result"
    }
   ],
   "source": [
    "len(outliers)"
   ]
  },
  {
   "cell_type": "code",
   "execution_count": 12,
   "metadata": {
    "scrolled": false
   },
   "outputs": [
    {
     "name": "stdout",
     "output_type": "stream",
     "text": [
      "[u'6feb1b41_ng', u'248dc4a6_ng', u'9f14de7f_ng', u'a97b967c_ng', u'7eae2c22_ng', u'c1965e58_ng', u'ba8966f9_ng', u'208ed979_ng', u'7274dcc3_ng', u'4ba00307_ng', u'1391c95a_ng', u'68234ec6_ng', u'436640d3_ng', u'2cc5625e_ng']\n"
     ]
    }
   ],
   "source": [
    "for o in outliers:\n",
    "    print o['news_profile'].keys()"
   ]
  },
  {
   "cell_type": "code",
   "execution_count": 13,
   "metadata": {
    "scrolled": false
   },
   "outputs": [
    {
     "name": "stdout",
     "output_type": "stream",
     "text": [
      "label:0\n",
      "set([u'166', u'113'])\n",
      "\n",
      "label:0\n",
      "set([u'123', u'40'])\n",
      "\n",
      "label:1\n",
      "set([u'91', u'123'])\n",
      "\n",
      "label:0\n",
      "set([u'91', u'130', u'113', u'40'])\n",
      "\n",
      "label:0\n",
      "set([u'44', u'180', u'113'])\n",
      "\n",
      "label:0\n",
      "set([u'206', u'33', u'131', u'186', u'6', u'102', u'166'])\n",
      "\n",
      "label:0\n",
      "set([u'39', u'250'])\n",
      "\n",
      "label:0\n",
      "set([u'91', u'28'])\n",
      "\n",
      "label:0\n",
      "set([u'180', u'40'])\n",
      "\n",
      "label:0\n",
      "set([u'44', u'220'])\n",
      "\n",
      "label:0\n",
      "set([u'206', u'40', u'130', u'113', u'91', u'220'])\n",
      "\n",
      "label:1\n",
      "set([u'206', u'40', u'130', u'168', u'113', u'91'])\n",
      "\n",
      "label:0\n",
      "set([u'91', u'113', u'206'])\n",
      "\n",
      "label:1\n",
      "set([u'131', u'186', u'6'])\n",
      "\n"
     ]
    }
   ],
   "source": [
    "user_profile = outliers[0]['user_profile'].get('nl_topic256')\n",
    "\n",
    "for news in outliers[0]['news_profile'].keys():\n",
    "    this_article = outliers[0]['news_profile'][news]\n",
    "    a = this_article.get('label')\n",
    "    print(\"label:{}\".format(a))\n",
    "    \n",
    "    news_keywords = this_article.get('news_feature').get('topic256')\n",
    "    if news_keywords:\n",
    "        intersection = set(news_keywords.keys()) & set( user_profile )\n",
    "        print(intersection)\n",
    "        print"
   ]
  },
  {
   "cell_type": "markdown",
   "metadata": {},
   "source": [
    ">仅凭这一个结果，click 看起来 不在乎权重，只在乎 user_profile 与 news_profile topic 重合个数？\n",
    "可以验证一下，click的events中 user_profile 里 topic重合数，相对于 non-click 里 topic的重合数"
   ]
  },
  {
   "cell_type": "code",
   "execution_count": 14,
   "metadata": {},
   "outputs": [
    {
     "data": {
      "image/png": "[encoded data removed]",
      "text/plain": [
       "<Figure size 864x432 with 1 Axes>"
      ]
     },
     "metadata": {
      "needs_background": "light"
     },
     "output_type": "display_data"
    }
   ],
   "source": [
    "plt.figure(figsize = (12, 6))\n",
    "plt.hist(count_pn, bins = 50, log = True)\n",
    "plt.xlabel('Number of times the news have been pushed', fontsize = 12)\n",
    "plt.ylabel('log(Count of news)', fontsize = 12)\n",
    "plt.title('The distribution of number of times be pushed per news')\n",
    "plt.show()"
   ]
  },
  {
   "cell_type": "code",
   "execution_count": 15,
   "metadata": {},
   "outputs": [
    {
     "name": "stdout",
     "output_type": "stream",
     "text": [
      "News that have been pushed < 1: 0.0%\n",
      "News that have been pushed < 2: 22.07%\n",
      "News that have been pushed < 5: 44.48%\n",
      "News that have been pushed < 10: 60.14%\n",
      "News that have been pushed < 15: 68.35%\n",
      "News that have been pushed < 20: 71.34%\n",
      "News that have been pushed < 50: 84.17%\n",
      "News that have been pushed < 70: 87.94%\n",
      "News that have been pushed < 80: 88.96%\n",
      "News that have been pushed < 100: 90.25%\n",
      "News that have been pushed < 150: 93.16%\n",
      "News that have been pushed < 200: 94.95%\n",
      "News that have been pushed < 300: 96.66%\n",
      "News that have been pushed < 500: 98.46%\n"
     ]
    }
   ],
   "source": [
    "# check the most popular article:\n",
    "for i in [1, 2, 5, 10, 15, 20, 50, 70, 80, 100, 150, 200, 300, 500]:\n",
    "    counts = [1 for p in count_pn if p < i]\n",
    "    counts = round( 100.0* sum(counts)/len(count_pn),2)\n",
    "    print('News that have been pushed < {}: {}%'.format(i, counts))"
   ]
  },
  {
   "cell_type": "code",
   "execution_count": 16,
   "metadata": {},
   "outputs": [],
   "source": [
    "# check the proportion of be clicked out of be pushed \n",
    "\n",
    "def count_ctr_pn(dairy, printInfo):\n",
    "    \"\"\"count click through rate of each news\"\"\"\n",
    "    news_clicked_count = defaultdict(list)\n",
    "    for user in dairy:\n",
    "        active_flag = False\n",
    "        for news_id in user['news_profile'].keys():\n",
    "            click = user['news_profile'][news_id]['label']\n",
    "            news_clicked_count[news_id].extend( [click])\n",
    "    \n",
    "    CTR = []\n",
    "    for key in news_clicked_count.keys():\n",
    "        ctr = sum( news_clicked_count[key] )/len( news_clicked_count[key] )*100\n",
    "        CTR.append(ctr)\n",
    "             \n",
    "    return CTR\n",
    "\n",
    "train_ctr = count_ctr_pn( train_dairy, True)"
   ]
  },
  {
   "cell_type": "code",
   "execution_count": 17,
   "metadata": {},
   "outputs": [
    {
     "data": {
      "text/plain": [
       "1169"
      ]
     },
     "execution_count": 17,
     "metadata": {},
     "output_type": "execute_result"
    }
   ],
   "source": [
    "# check candidate pool size\n",
    "len(count_pn)"
   ]
  },
  {
   "cell_type": "markdown",
   "metadata": {},
   "source": [
    "There are 887 unique news have been pushed."
   ]
  },
  {
   "cell_type": "code",
   "execution_count": 18,
   "metadata": {
    "scrolled": true
   },
   "outputs": [
    {
     "name": "stdout",
     "output_type": "stream",
     "text": [
      "News that CTR = 0: 95.81 %\n"
     ]
    }
   ],
   "source": [
    "counts = [1 for p in train_ctr if p == 0]\n",
    "counts = round( 100.0* sum(counts)/len(train_ctr),2 )\n",
    "print('News that CTR = 0: {} %'.format(counts))"
   ]
  },
  {
   "cell_type": "markdown",
   "metadata": {},
   "source": [
    "Imbalance Class, 40% of active users. For each news, 4% be clicked. "
   ]
  },
  {
   "cell_type": "code",
   "execution_count": 19,
   "metadata": {
    "scrolled": false
   },
   "outputs": [
    {
     "data": {
      "image/png": "[encoded data removed]",
      "text/plain": [
       "<Figure size 864x432 with 1 Axes>"
      ]
     },
     "metadata": {
      "needs_background": "light"
     },
     "output_type": "display_data"
    }
   ],
   "source": [
    "# check number of news be clicked per person\n",
    "# def count_click_counts_pp(dairy, printInfo):\n",
    "#     click_count = []\n",
    "#     for user in dairy:\n",
    "#         active_count = 0\n",
    "#         for pushed_news in user['news_profile'].keys():\n",
    "#             if user['news_profile'][pushed_news]['label'] == 1:\n",
    "#                 active_count += 1\n",
    "#         click_count.extend([active_count])\n",
    "        \n",
    "#     return click_count\n",
    "\n",
    "def count_click_counts_pp(dairy, printInfo):\n",
    "    click_count = []\n",
    "    for user in dairy:\n",
    "        active_count = 0\n",
    "        active_flag = False\n",
    "        for pushed_news in user['news_profile'].keys():\n",
    "            if user['news_profile'][pushed_news]['label'] == 1:\n",
    "                active_count += 1\n",
    "                active_flag = True\n",
    "        if active_flag:      \n",
    "            click_count.extend([active_count])\n",
    "        \n",
    "    return click_count\n",
    "\n",
    "click_counts = count_click_counts_pp(train_dairy, True)\n",
    "\n",
    "plt.figure(figsize = (12, 6))\n",
    "plt.hist(click_counts, bins = 50, log = True)\n",
    "plt.xlabel('Number of news have been clicked per person', fontsize = 12)\n",
    "plt.ylabel('log(Count of person)', fontsize = 12)\n",
    "plt.title('The distribution of number of news be clicked per person')\n",
    "plt.show()"
   ]
  },
  {
   "cell_type": "markdown",
   "metadata": {},
   "source": [
    "# count how many active users"
   ]
  },
  {
   "cell_type": "code",
   "execution_count": null,
   "metadata": {},
   "outputs": [],
   "source": [
    "def count_active_users(dairy, printInfo):\n",
    "    click_count = []\n",
    "    for user in dairy:\n",
    "        active_count = 0\n",
    "        active_flag = False\n",
    "        for pushed_news in user['news_profile'].keys():\n",
    "            if user['news_profile'][pushed_news]['label'] == 1:\n",
    "                active_count += 1\n",
    "                active_flag = True\n",
    "        if active_flag:      \n",
    "            click_count.extend([active_count])\n",
    "        \n",
    "    return click_count\n",
    "\n",
    "click_counts = count_click_counts_pp(train_dairy, True)\n",
    "\n",
    "plt.figure(figsize = (12, 6))\n",
    "plt.hist(click_counts, bins = 50, log = True)\n",
    "plt.xlabel('Number of news have been clicked per person', fontsize = 12)\n",
    "plt.ylabel('log(Count of person)', fontsize = 12)\n",
    "plt.title('The distribution of number of news be clicked per person')\n",
    "plt.show()"
   ]
  },
  {
   "cell_type": "code",
   "execution_count": 20,
   "metadata": {
    "scrolled": true
   },
   "outputs": [
    {
     "name": "stdout",
     "output_type": "stream",
     "text": [
      "Num of people that have been clicked <= 0: 0.0%\n",
      "Num of people that have been clicked <= 1: 72.85%\n",
      "Num of people that have been clicked <= 2: 89.82%\n",
      "Num of people that have been clicked <= 3: 95.75%\n",
      "Num of people that have been clicked <= 4: 98.03%\n",
      "Num of people that have been clicked <= 5: 99.09%\n",
      "Num of people that have been clicked <= 6: 99.6%\n",
      "Num of people that have been clicked <= 7: 99.84%\n",
      "Num of people that have been clicked <= 8: 100.0%\n"
     ]
    }
   ],
   "source": [
    "for i in range(9):\n",
    "    counts = [1 for p in click_counts if p <= i]\n",
    "    counts = round( 100.0* sum(counts)/len(click_counts),2)\n",
    "    print('Num of people that have been clicked <= {}: {}%'.format(i, counts))"
   ]
  },
  {
   "cell_type": "markdown",
   "metadata": {},
   "source": [
    ">有些人太闲了，推多少条看多少条？？是不是无论推什么，他都看。是不是应该结合推送时间看一下，他是不是每一条新闻都点啊？？如果很临近，他肯定就是太闲了\n",
    "\n",
    "那么太闲的人的特征？手机牌子？user_profile里面权重很低？（kurtosis?）"
   ]
  },
  {
   "cell_type": "code",
   "execution_count": 201,
   "metadata": {},
   "outputs": [],
   "source": [
    "# check the one that clicked too much times\n",
    "\n",
    "def collect_ctr_outliers(dairy, printInfo, cutoff):\n",
    "    outliers = []\n",
    "    outliers_count = []\n",
    "    for user in dairy:\n",
    "        active_count = 0\n",
    "        for pushed_news in user['news_profile'].keys():\n",
    "            if user['news_profile'][pushed_news]['label'] == 1:\n",
    "                active_count += 1\n",
    "        if active_count>=cutoff:\n",
    "            outliers.append(user)\n",
    "            outliers_count.append(str(active_count) + str(\"/\") + str(len(user['news_profile'].keys())))\n",
    "    return outliers, outliers_count\n",
    "\n",
    "ctr_outliers, outliers_count = collect_ctr_outliers(train_dairy, True, 4)"
   ]
  },
  {
   "cell_type": "code",
   "execution_count": 194,
   "metadata": {},
   "outputs": [
    {
     "data": {
      "text/plain": [
       "324"
      ]
     },
     "execution_count": 194,
     "metadata": {},
     "output_type": "execute_result"
    }
   ],
   "source": [
    "len(outliers_count)"
   ]
  }
 ],
 "metadata": {
  "kernelspec": {
   "display_name": "Python 2",
   "language": "python",
   "name": "python2"
  },
  "language_info": {
   "codemirror_mode": {
    "name": "ipython",
    "version": 2
   },
   "file_extension": ".py",
   "mimetype": "text/x-python",
   "name": "python",
   "nbconvert_exporter": "python",
   "pygments_lexer": "ipython2",
   "version": "2.7.15"
  },
  "toc": {
   "base_numbering": 1,
   "nav_menu": {},
   "number_sections": true,
   "sideBar": true,
   "skip_h1_title": false,
   "title_cell": "Table of Contents",
   "title_sidebar": "Contents",
   "toc_cell": false,
   "toc_position": {},
   "toc_section_display": true,
   "toc_window_display": false
  }
 },
 "nbformat": 4,
 "nbformat_minor": 2
}
